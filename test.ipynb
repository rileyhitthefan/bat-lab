{
 "cells": [
  {
   "cell_type": "code",
   "execution_count": 1,
   "id": "a5111f4c",
   "metadata": {},
   "outputs": [],
   "source": [
    "from src.sounduploader.sonogram import *"
   ]
  },
  {
   "cell_type": "code",
   "execution_count": 2,
   "id": "707d8f6d",
   "metadata": {},
   "outputs": [
    {
     "name": "stderr",
     "output_type": "stream",
     "text": [
      "c:\\Users\\bi020\\Documents\\tcu\\tcu-ds\\tcu4\\senior-design\\bat-lab\\src\\sounduploader\\sonogram.py:100: WavFileWarning: Chunk (non-data) not understood, skipping it.\n",
      "  rate, data = wavfile.read(filepath)\n",
      "c:\\Users\\bi020\\Documents\\tcu\\tcu-ds\\tcu4\\senior-design\\bat-lab\\src\\sounduploader\\sonogram.py:100: WavFileWarning: Reached EOF prematurely; finished at 2305398 bytes, expected 2305402 bytes from header.\n",
      "  rate, data = wavfile.read(filepath)\n",
      "c:\\Users\\bi020\\Documents\\tcu\\tcu-ds\\tcu4\\senior-design\\bat-lab\\src\\sounduploader\\sonogram.py:79: FutureWarning: `rectangle` is deprecated since version 0.25 and will be removed in version 0.27. Use `skimage.morphology.footprint_rectangle` instead.\n",
      "  spec = filters.median(spec, footprint=morphology.rectangle(3, 1))\n"
     ]
    },
    {
     "data": {
      "text/plain": [
       "'src/static/uploads/00011_NoID_24F3190166BC0811_20250529_174202_000T_sonogram_bat.png'"
      ]
     },
     "execution_count": 2,
     "metadata": {},
     "output_type": "execute_result"
    }
   ],
   "source": [
    "filepath = \"src/static/uploads/00011_NoID_24F3190166BC0811_20250529_174202_000T.wav\"\n",
    "create_sonogram(filepath)"
   ]
  }
 ],
 "metadata": {
  "kernelspec": {
   "display_name": "batlabenv",
   "language": "python",
   "name": "python3"
  },
  "language_info": {
   "codemirror_mode": {
    "name": "ipython",
    "version": 3
   },
   "file_extension": ".py",
   "mimetype": "text/x-python",
   "name": "python",
   "nbconvert_exporter": "python",
   "pygments_lexer": "ipython3",
   "version": "3.13.1"
  }
 },
 "nbformat": 4,
 "nbformat_minor": 5
}
